{
 "cells": [
  {
   "cell_type": "markdown",
   "metadata": {},
   "source": [
    "Criação das tabelas para coleta de dados para o trabalho"
   ]
  },
  {
   "cell_type": "markdown",
   "metadata": {},
   "source": [
    "Imports e etc..."
   ]
  },
  {
   "cell_type": "code",
   "execution_count": 1,
   "metadata": {},
   "outputs": [],
   "source": [
    "import pandas as pd"
   ]
  },
  {
   "cell_type": "markdown",
   "metadata": {},
   "source": [
    "1 - Criação da tabela matriz com ID de usuário (chave primária das tabelas para elaborar as queries de consulta)\n",
    "\n",
    "id_paciente int\n",
    "data_nasc date\n",
    "idade int\n",
    "data_internacao_hospital date\n",
    "data_internacao_uic date\n",
    "data_de_alta_obito date"
   ]
  },
  {
   "cell_type": "markdown",
   "metadata": {},
   "source": [
    "2 - Histório de saúde prévio\n",
    "\n",
    "cirurgias_realizadas varchar (longo)\n",
    "doencas_cronicas (detalhar depois)\n",
    "medicamentos-utilizados_previamente (antidepressivo, hipoglicemiantes, antipissicõticos, antibióticos, outros)"
   ]
  },
  {
   "cell_type": "markdown",
   "metadata": {},
   "source": [
    "3 - Fatores de risco para delirium\n",
    "\n",
    "demencia_previa\n",
    "alcoolismo\n",
    "drogas_ilicitas - quais - frequencia\n",
    "tabagismo\n",
    "doenca_cronica_degenerativa\n",
    "surdez\n",
    "deficiencia_visual\n",
    "doenca_psiquiatrica_previa\n",
    "sindrome_metabolica\n",
    "sindrome_uremica\n",
    "hipoglicemia\n",
    "ave_previo\n",
    "has\n",
    "dm\n",
    "irc"
   ]
  },
  {
   "cell_type": "markdown",
   "metadata": {},
   "source": [
    "4 - Fatores de risco para delirium detectado no período intraoperatório\n",
    "\n",
    "cirurgia realizada (longo)\n",
    "tempo_cirurgico (obs curto) horas\n",
    "tipo de anestesia (longo)\n",
    "agente anestésico/dosagem (estudar caso)\n",
    "uso de cateter peridural (sim ou não)\n",
    "outras medicações utilizadas no período intraoperatório (tabela)\n",
    "reposicao volemica\n",
    "cristaloide ml\n",
    "coloide\n",
    "tranfusao - unidade de hemacias - unidades de plasma - unidade de plaquetas\n",
    "intercorrencia no periodo intraoperatório - convulsão - outras\n"
   ]
  },
  {
   "cell_type": "markdown",
   "metadata": {},
   "source": [
    "5 - Fatores de risco para delirium identificados durante a internacao de unidade de terapia intensiva cirurgica\n",
    "\n",
    "imovel/restrito\n",
    "desidratacao\n",
    "disturbio hidreletrolítico\n",
    "hipoperfusão\n",
    "hipoximia\n",
    "sepse\n",
    "constirpacao\n",
    "alteracao no padrao do sono\n",
    "dor nao controlada\n",
    "dispositivos que causam restricao\n",
    "monitorizacao multiparametrica continua\n",
    "acesso vascular\n",
    "cateter vesical de demora\n",
    "cateter peridural\n",
    "sonda naso/oro/gastro/intestinal\n",
    "contencao fisica\n",
    "\n",
    "\n",
    "tempo de jejum (desde o periodo pre até o retorno da dieta oral/enteral)\n",
    "complicacoes operatorias (sepse - infeccao) + obs\n",
    "\n",
    "\n",
    "iam\n",
    "ave\n",
    "outras (descricao)"
   ]
  },
  {
   "cell_type": "markdown",
   "metadata": {},
   "source": [
    "6 - Exame físico no pós operatório imediato\n",
    "\n",
    "descrição longa"
   ]
  },
  {
   "cell_type": "markdown",
   "metadata": {},
   "source": [
    "7 - Avaliacao nutricional\n",
    "\n",
    "asg - avaliacao de risco nutricional (descricao)\n",
    "peso\n",
    "altura\n"
   ]
  },
  {
   "cell_type": "markdown",
   "metadata": {},
   "source": [
    "8 - sistema de pontuacao e estimativas de mortalidade apacheII no pós operatório imediato\n",
    "\n",
    "TABELA\n",
    "\n",
    "colunas:\n",
    "\n",
    "parametro\n",
    "maior valor\n",
    "menor valor\n",
    "\n",
    "linhas:\n",
    "temperatura\n",
    "pressão arterial média\n",
    "frequencia cardíaca\n",
    "fio2\n",
    "pao2\n",
    "na+ serico\n",
    "k+ serico\n",
    "creatinina serica\n",
    "lactato\n",
    "hematocrito\n",
    "leucocitos\n",
    "escala de coma de glascow\n"
   ]
  },
  {
   "cell_type": "markdown",
   "metadata": {},
   "source": [
    "9 - avaliacao diaria de perda de dispositivo medico durante a internacao em unidade de terapia intensiva cirurgica\n",
    "\n",
    "data\n",
    "perda de dispositivo medico(sim/não)\n",
    "sinalizar dispositivo perdido (anotação)\n"
   ]
  },
  {
   "cell_type": "markdown",
   "metadata": {},
   "source": []
  }
 ],
 "metadata": {
  "interpreter": {
   "hash": "c6d931b9617fbd835817353775001d8f53306ab87579264d2caa259bb8037ffc"
  },
  "kernelspec": {
   "display_name": "Python 3.9.7 ('base')",
   "language": "python",
   "name": "python3"
  },
  "language_info": {
   "codemirror_mode": {
    "name": "ipython",
    "version": 3
   },
   "file_extension": ".py",
   "mimetype": "text/x-python",
   "name": "python",
   "nbconvert_exporter": "python",
   "pygments_lexer": "ipython3",
   "version": "3.9.7"
  },
  "orig_nbformat": 4
 },
 "nbformat": 4,
 "nbformat_minor": 2
}
